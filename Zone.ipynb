{
 "cells": [
  {
   "cell_type": "markdown",
   "metadata": {},
   "source": [
    "## Todo-list :\n",
    "\n",
    "Ajouter un message \"Tour suivant\" entre les tours\n",
    "\n",
    "Rajouter des attaques\n",
    "\n",
    "Rajouter des obstacles"
   ]
  },
  {
   "cell_type": "code",
   "execution_count": null,
   "metadata": {},
   "outputs": [
    {
     "name": "stdout",
     "output_type": "stream",
     "text": [
      "pygame 2.6.1 (SDL 2.28.4, Python 3.10.6)\n",
      "Hello from the pygame community. https://www.pygame.org/contribute.html\n"
     ]
    }
   ],
   "source": [
    "## Importation des librairies nécessaires\n",
    "import pygame\n",
    "from pygame.locals import QUIT, KEYDOWN, K_UP, K_DOWN, K_LEFT, K_RIGHT\n",
    "\n",
    "import Fonction as fct"
   ]
  },
  {
   "cell_type": "code",
   "execution_count": 2,
   "metadata": {},
   "outputs": [
    {
     "data": {
      "text/plain": [
       "<rect(0, 0, 800, 800)>"
      ]
     },
     "execution_count": 2,
     "metadata": {},
     "output_type": "execute_result"
    }
   ],
   "source": [
    "## Dimensions de la fenêtre du jeu\n",
    "largeur = 800\n",
    "hauteur = 800\n",
    "\n",
    "## Créer une carte de 16x16\n",
    "taille_case = largeur // 16\n",
    "\n",
    "## Les couleurs\n",
    "NOIR = (0, 0, 0)\n",
    "BLANC = (250, 250, 250)\n",
    "ROUGE = (255, 0, 0)\n",
    "BLEU = (0, 0, 255)\n",
    "\n",
    "## Création de la fenêtre\n",
    "pygame.init()\n",
    "screen = pygame.display.set_mode((largeur, hauteur))\n",
    "pygame.display.set_caption(\"Fire Emblem\") ## Titre\n",
    "\n",
    "## Arrière-plan blanc\n",
    "background = pygame.Surface(screen.get_size())\n",
    "background = background.convert()\n",
    "background.fill(BLANC)"
   ]
  },
  {
   "cell_type": "code",
   "execution_count": 3,
   "metadata": {},
   "outputs": [],
   "source": [
    "## Création des unités jouables et non-jouables\n",
    "class Unit:\n",
    "    def __init__(self, name, hp, attack, defense, x, y, color):\n",
    "        self.name = name\n",
    "        self.hp = hp\n",
    "        self.attack = attack\n",
    "        self.defense = defense\n",
    "        self.x = x\n",
    "        self.y = y\n",
    "        self.color = color\n",
    "    \n",
    "    def draw(self, surface):\n",
    "        \"\"\"\n",
    "        Dessiner l'unité\n",
    "        \"\"\"\n",
    "        centre_x = self.x * taille_case + taille_case // 2\n",
    "        centre_y = self.y * taille_case + taille_case // 2\n",
    "        pygame.draw.circle(surface, self.color, (centre_x, centre_y), taille_case // 3)\n",
    "\n",
    "    def move(self, dx, dy):\n",
    "        \"\"\"\n",
    "        Déplacer l'unité et limitation des coordonnées pour rester dans la grille\n",
    "        \"\"\"\n",
    "        self.x = max(0, min(self.x + dx, 15))  \n",
    "        self.y = max(0, min(self.y + dy, 15))\n",
    "\n",
    "player_unit = Unit(\"Allié\", 20, 10, 5, 0, 0, BLEU)\n",
    "enemy_unit = Unit(\"Ennemi\", 15, 8, 3, 8, 4, ROUGE)"
   ]
  },
  {
   "cell_type": "code",
   "execution_count": 4,
   "metadata": {},
   "outputs": [],
   "source": [
    "## Lancer le programme (boucle finie)\n",
    "continuer = True\n",
    "player_turn = True ## (True = tour de l'allié, False = tour de l'ennemi)\n",
    "\n",
    "while continuer:\n",
    "    for event in pygame.event.get():\n",
    "        if event.type == QUIT:\n",
    "            continuer = False\n",
    "\n",
    "        ## Déplacement de l'unité selon le tour\n",
    "        if player_turn:  ## Tour de l'allié\n",
    "            if event.type == KEYDOWN:\n",
    "                if event.key == K_UP:\n",
    "                    player_unit.move(0, -1)\n",
    "                elif event.key == K_DOWN:\n",
    "                    player_unit.move(0, 1)\n",
    "                elif event.key == K_LEFT:\n",
    "                    player_unit.move(-1, 0)\n",
    "                elif event.key == K_RIGHT:\n",
    "                    player_unit.move(1, 0)\n",
    "                player_turn = False\n",
    "\n",
    "\n",
    "\n",
    "\n",
    "\n",
    "        else:  ## Tour de l'ennemi\n",
    "            if event.type == KEYDOWN:\n",
    "                if event.key == K_UP:\n",
    "                    enemy_unit.move(0, -1)\n",
    "                elif event.key == K_DOWN:\n",
    "                    enemy_unit.move(0, 1)\n",
    "                elif event.key == K_LEFT:\n",
    "                    enemy_unit.move(-1, 0)\n",
    "                elif event.key == K_RIGHT:\n",
    "                    enemy_unit.move(1, 0)\n",
    "                player_turn = True \n",
    "\n",
    "    ## Afficher l'arrière-plan\n",
    "    screen.fill(BLANC)\n",
    "\n",
    "    ## Construction de la grille\n",
    "    for i in range(17):\n",
    "        pygame.draw.line(screen, NOIR, (0, i * taille_case), (largeur, i * taille_case))\n",
    "        pygame.draw.line(screen, NOIR, (i * taille_case, 0), (i * taille_case, hauteur))\n",
    "\n",
    "    ## Dessiner les unités\n",
    "    player_unit.draw(screen)\n",
    "    enemy_unit.draw(screen)\n",
    "\n",
    "    pygame.display.flip()\n",
    "pygame.quit()\n"
   ]
  }
 ],
 "metadata": {
  "kernelspec": {
   "display_name": "Python 3",
   "language": "python",
   "name": "python3"
  },
  "language_info": {
   "codemirror_mode": {
    "name": "ipython",
    "version": 3
   },
   "file_extension": ".py",
   "mimetype": "text/x-python",
   "name": "python",
   "nbconvert_exporter": "python",
   "pygments_lexer": "ipython3",
   "version": "3.10.6"
  }
 },
 "nbformat": 4,
 "nbformat_minor": 2
}
